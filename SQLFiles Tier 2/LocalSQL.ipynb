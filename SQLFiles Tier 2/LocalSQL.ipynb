{
 "cells": [
  {
   "cell_type": "code",
   "execution_count": 9,
   "id": "39d81dee",
   "metadata": {},
   "outputs": [],
   "source": [
    "import sqlite3\n",
    "from sqlite3 import Error"
   ]
  },
  {
   "cell_type": "code",
   "execution_count": 144,
   "id": "ed8b610b",
   "metadata": {},
   "outputs": [
    {
     "name": "stdout",
     "output_type": "stream",
     "text": [
      "2.6.0\n",
      "2. Query all tasks\n",
      "('Tennis Court 1', 111, 'Aug')\n",
      "('Tennis Court 2', 109, 'Aug')\n",
      "('Badminton Court', 132, 'Aug')\n",
      "('Table Tennis', 143, 'Aug')\n",
      "('Massage Room 1', 153, 'Aug')\n",
      "('Massage Room 2', 9, 'Aug')\n",
      "('Squash Court', 85, 'Aug')\n",
      "('Snooker Table', 154, 'Aug')\n",
      "('Pool Table', 272, 'Aug')\n",
      "('Tennis Court 1', 65, 'July')\n",
      "('Tennis Court 2', 41, 'July')\n",
      "('Badminton Court', 51, 'July')\n",
      "('Table Tennis', 48, 'July')\n",
      "('Massage Room 1', 77, 'July')\n",
      "('Massage Room 2', 4, 'July')\n",
      "('Squash Court', 23, 'July')\n",
      "('Snooker Table', 68, 'July')\n",
      "('Pool Table', 103, 'July')\n",
      "('Tennis Court 1', 132, 'Sept')\n",
      "('Tennis Court 2', 126, 'Sept')\n",
      "('Badminton Court', 161, 'Sept')\n",
      "('Table Tennis', 194, 'Sept')\n",
      "('Massage Room 1', 191, 'Sept')\n",
      "('Massage Room 2', 14, 'Sept')\n",
      "('Squash Court', 87, 'Sept')\n",
      "('Snooker Table', 199, 'Sept')\n",
      "('Pool Table', 408, 'Sept')\n"
     ]
    }
   ],
   "source": [
    "def create_connection(db_file):\n",
    "    \"\"\" create a database connection to the SQLite database\n",
    "        specified by the db_file\n",
    "    :param db_file: database file\n",
    "    :return: Connection object or None\n",
    "    \"\"\"\n",
    "    conn = None\n",
    "    try:\n",
    "        conn = sqlite3.connect(db_file)\n",
    "        print(sqlite3.version)\n",
    "    except Error as e:\n",
    "        print(e)\n",
    " \n",
    "    return conn\n",
    "\n",
    "def select_all_tasks(conn):\n",
    "    \"\"\"\n",
    "    Query all rows in the tasks table\n",
    "    :param conn: the Connection object\n",
    "    :return:\n",
    "    \"\"\"\n",
    "    cur = conn.cursor()\n",
    "    \n",
    "    query1 = \"\"\"\n",
    "        select F.name, count(bookid),\n",
    "        case when starttime like '2012-07%' then 'July'\n",
    "        when starttime like '2012-08%' then 'Aug'\n",
    "        else 'Sept'\n",
    "        end as Month\n",
    "        from Bookings as B\n",
    "        left join Facilities as F\n",
    "        on F.facid = B.facid\n",
    "        where memid <> 0\n",
    "        group by Month, F.facid\n",
    "        \"\"\"\n",
    "    cur.execute(query1)\n",
    " \n",
    "    rows = cur.fetchall()\n",
    " \n",
    "    for row in rows:\n",
    "        print(row)\n",
    "        \n",
    "def main():\n",
    "    database = \"sqlite_db_pythonsqlite.db\"\n",
    "    # create a database connection\n",
    "    conn = create_connection(database)\n",
    "    with conn: \n",
    "        print(\"2. Query all tasks\")\n",
    "        select_all_tasks(conn)\n",
    "        \n",
    "if __name__ == '__main__':\n",
    "    main()"
   ]
  },
  {
   "cell_type": "code",
   "execution_count": null,
   "id": "1f026e98",
   "metadata": {},
   "outputs": [],
   "source": []
  },
  {
   "cell_type": "code",
   "execution_count": null,
   "id": "ee78bbd5",
   "metadata": {},
   "outputs": [],
   "source": []
  }
 ],
 "metadata": {
  "kernelspec": {
   "display_name": "Python 3 (ipykernel)",
   "language": "python",
   "name": "python3"
  },
  "language_info": {
   "codemirror_mode": {
    "name": "ipython",
    "version": 3
   },
   "file_extension": ".py",
   "mimetype": "text/x-python",
   "name": "python",
   "nbconvert_exporter": "python",
   "pygments_lexer": "ipython3",
   "version": "3.9.12"
  }
 },
 "nbformat": 4,
 "nbformat_minor": 5
}
